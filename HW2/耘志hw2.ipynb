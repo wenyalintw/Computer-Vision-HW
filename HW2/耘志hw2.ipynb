{
 "cells": [
  {
   "cell_type": "code",
   "execution_count": 2,
   "metadata": {},
   "outputs": [
    {
     "name": "stdout",
     "output_type": "stream",
     "text": [
      "[[255 255 255 ..., 255 255 255]\n",
      " [255 255 255 ..., 255 255 255]\n",
      " [255 255 255 ..., 255 255 255]\n",
      " ..., \n",
      " [  0   0   0 ...,   0   0   0]\n",
      " [  0   0   0 ...,   0   0   0]\n",
      " [  0   0   0 ...,   0   0   0]]\n"
     ]
    },
    {
     "data": {
      "text/plain": [
       "True"
      ]
     },
     "execution_count": 2,
     "metadata": {},
     "output_type": "execute_result"
    }
   ],
   "source": [
    "import numpy as np\n",
    "import cv2\n",
    "\n",
    "img = cv2.imread('lena.bmp', 0)\n",
    "rows, cols = img.shape\n",
    "\n",
    "cal = np.zeros(256)\n",
    "\n",
    "for i in range(rows):\n",
    "    for j in range(cols):\n",
    "        cal[img[i][j]] += 1\n",
    "        if img[i][j] > 127:\n",
    "            img[i][j] = 255\n",
    "        else:\n",
    "            img[i][j] = 0\n",
    "\n",
    "cv2.imwrite('binary.jpg', img)\n",
    "print img\n",
    "\n",
    "\n",
    "div_scalar = np.amax(cal) / (256 * 0.9) # max value is about 0.9 position from bottom\n",
    "his = np.zeros((256, 256))\n",
    "\n",
    "for i in range(256):\n",
    "    for j in range(256):\n",
    "        if i > 255 - int(cal[j] / div_scalar):\n",
    "            his[i][j] = 255\n",
    "\n",
    "cv2.imwrite('histogram.jpg', his)\n",
    "\n",
    "img_cp = np.zeros((rows+1, cols+1), dtype=int)\n",
    "img_cp[1:, 1:] = img\n",
    "label = 0\n",
    "edges = set()\n",
    "# first pass\n",
    "for i in range(1, rows + 1, 1):\n",
    "    for j in range(1, cols + 1, 1):\n",
    "        if img_cp[i][j] == 0:\n",
    "            continue\n",
    "            \n",
    "        left, up = img_cp[i][j-1], img_cp[i-1][j]\n",
    "        if left == 0:\n",
    "            if up == 0:\n",
    "                label += 1\n",
    "                img_cp[i][j] = label\n",
    "            else:\n",
    "                img_cp[i][j] = up\n",
    "        else:\n",
    "            if up == 0:\n",
    "                img_cp[i][j] = left\n",
    "            else:\n",
    "                if left > up: \n",
    "                    img_cp[i][j] = up\n",
    "                    edges.add((left, up))\n",
    "                elif up > left:\n",
    "                    img_cp[i][j] = left\n",
    "                    edges.add((up, left))\n",
    "                else:\n",
    "                    img_cp[i][j] = left\n",
    "            \n",
    "label_pt = np.arange(label + 1, dtype=int)\n",
    "\n",
    "def Find(index):\n",
    "    if label_pt[index] != index:\n",
    "        label_pt[index] = Find(label_pt[index])\n",
    "    return label_pt[index]\n",
    "\n",
    "def Union(x, y):\n",
    "    xRoot = Find(x)\n",
    "    yRoot = Find(y)\n",
    "    \n",
    "    if xRoot == yRoot:         \n",
    "       return\n",
    "    elif xRoot < yRoot:\n",
    "        label_pt[yRoot] = xRoot\n",
    "    else:\n",
    "        label_pt[xRoot] = yRoot\n",
    "\n",
    "for edge in edges:\n",
    "    x, y = edge\n",
    "    Union(x, y)\n",
    "    \n",
    "label_count = np.zeros(label + 1, dtype=int)\n",
    "# second pass\n",
    "for i in range(1, rows + 1, 1):\n",
    "    for j in range(1, cols + 1, 1):\n",
    "        if img_cp[i][j] == 0:\n",
    "            continue\n",
    "            \n",
    "        img_cp[i][j] = Find(label_pt[img_cp[i][j]])\n",
    "        label_count[img_cp[i][j]] += 1  \n",
    "        \n",
    "rbg_img = cv2.cvtColor(img, cv2.COLOR_GRAY2BGR)\n",
    "img_cp = img_cp[1:, 1:]\n",
    "for cnt in range(label+1):\n",
    "    if label_count[cnt] >= 500:\n",
    "        min_i, min_j = rows, cols\n",
    "        max_i, max_j = 0, 0\n",
    "        for i in range(rows):\n",
    "            for j in range(cols):\n",
    "                if img_cp[i][j] == cnt:\n",
    "                    if i < min_i:\n",
    "                        min_i = i\n",
    "                    elif i > max_i:\n",
    "                        max_i = i\n",
    "                    if j < min_j:\n",
    "                        min_j = j\n",
    "                    elif j > max_j:\n",
    "                        max_j = j\n",
    "                    \n",
    "        cv2.rectangle(rbg_img, (min_j, min_i), (max_j, max_i), (0, 0, 255), 1)\n",
    "        \n",
    "cv2.imwrite('connected_components.jpg', rbg_img)\n"
   ]
  },
  {
   "cell_type": "code",
   "execution_count": 5,
   "metadata": {},
   "outputs": [
    {
     "name": "stderr",
     "output_type": "stream",
     "text": [
      "IOPub data rate exceeded.\n",
      "The notebook server will temporarily stop sending output\n",
      "to the client in order to avoid crashing it.\n",
      "To change this limit, set the config variable\n",
      "`--NotebookApp.iopub_data_rate_limit`.\n",
      "\n",
      "Current values:\n",
      "NotebookApp.iopub_data_rate_limit=1000000.0 (bytes/sec)\n",
      "NotebookApp.rate_limit_window=3.0 (secs)\n",
      "\n"
     ]
    }
   ],
   "source": [
    "np.set_printoptions(threshold=10)\n",
    "\n",
    "print (cv2.imread('binary.jpg'))"
   ]
  },
  {
   "cell_type": "code",
   "execution_count": null,
   "metadata": {},
   "outputs": [],
   "source": []
  }
 ],
 "metadata": {
  "kernelspec": {
   "display_name": "Python 2",
   "language": "python",
   "name": "python2"
  },
  "language_info": {
   "codemirror_mode": {
    "name": "ipython",
    "version": 2
   },
   "file_extension": ".py",
   "mimetype": "text/x-python",
   "name": "python",
   "nbconvert_exporter": "python",
   "pygments_lexer": "ipython2",
   "version": "2.7.14"
  }
 },
 "nbformat": 4,
 "nbformat_minor": 2
}
