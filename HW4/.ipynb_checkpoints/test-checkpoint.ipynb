{
 "cells": [
  {
   "cell_type": "code",
   "execution_count": null,
   "metadata": {},
   "outputs": [],
   "source": [
    "import cv2\n",
    "import numpy as np\n",
    "%matplotlib inline\n",
    "from matplotlib import pyplot as plt\n",
    "import matplotlib.image as mpimg\n",
    "\n",
    "\n",
    "img1 = cv2.imread('emily.jpg')\n",
    "\n",
    "#kernel = cv2.getStructuringElement(cv2.MORPH_RECT, (8, 8))\n",
    "#dilateImg = cv2.dilate(img, kernel)\n",
    "#erodeImg = cv2.erode(img, kernel)\n",
    "\n",
    "\n",
    "#plt.imshow(cv2.cvtColor(img, cv2.COLOR_BGR2RGB))\n",
    "\n",
    "img2 = mpimg.imread(\"emily.jpg\")\n",
    "plt.imshow(img2)\n",
    "\n",
    "#plt.imshow(img)\n",
    "#plt.show()\n",
    "\n",
    "\n",
    "\n"
   ]
  },
  {
   "cell_type": "code",
   "execution_count": 8,
   "metadata": {},
   "outputs": [
    {
     "data": {
      "text/plain": [
       "True"
      ]
     },
     "execution_count": 8,
     "metadata": {},
     "output_type": "execute_result"
    }
   ],
   "source": [
    "import cv2\n",
    "import numpy as np\n",
    "\n",
    "\n",
    "\n",
    "img1 = cv2.imread('emily.jpg', 0)\n",
    "\n",
    "kernel = cv2.getStructuringElement(cv2.MORPH_RECT, (8, 8))\n",
    "dilateImg = cv2.dilate(img1, kernel)\n",
    "erodeImg = cv2.erode(img1, kernel)\n",
    "openImg = cv2.morphologyEx(img1, cv2.MORPH_OPEN, kernel)\n",
    "closeImg = cv2.morphologyEx(img1, cv2.MORPH_CLOSE, kernel)\n",
    "\n",
    "\n",
    "\n",
    "cv2.imwrite('original.jpg', img1)\n",
    "cv2.imwrite('dilateImg.jpg', dilateImg)\n",
    "cv2.imwrite('erodeImg.jpg', erodeImg)\n",
    "cv2.imwrite('openImg.jpg', openImg)\n",
    "cv2.imwrite('closeImg.jpg', closeImg)\n",
    "\n",
    "\n"
   ]
  },
  {
   "cell_type": "code",
   "execution_count": 96,
   "metadata": {},
   "outputs": [
    {
     "name": "stdout",
     "output_type": "stream",
     "text": [
      "CPU times: user 1.45 s, sys: 3.42 ms, total: 1.46 s\n",
      "Wall time: 1.46 s\n"
     ]
    },
    {
     "data": {
      "text/plain": [
       "True"
      ]
     },
     "execution_count": 96,
     "metadata": {},
     "output_type": "execute_result"
    }
   ],
   "source": [
    "import cv2\n",
    "import numpy as np\n",
    "\n",
    "\n",
    "def dilation_old(img, ker):\n",
    "    img_rows, img_columns = img.shape\n",
    "    ker_rows, ker_columns = ker.shape\n",
    "    \n",
    "    row_dist, column_dist = int((ker_rows-1)/2), int((ker_columns-1)/2)\n",
    "    #print (column_dist, ker_columns)\n",
    "    new_img = np.zeros((img_rows, img_columns), np.int)    \n",
    "    \n",
    "    for i in range(img_rows):\n",
    "        for j in range(img_columns):\n",
    "            top, bottom, left, right = i-row_dist, i+row_dist, j-column_dist, j+column_dist\n",
    "            \n",
    "            if (top >=0):\n",
    "                if (left < 0):\n",
    "                    if (bottom <= img_rows-1):\n",
    "                        if np.any(np.logical_and(ker[:, -left:], img[top:top+ker_rows, 0:left+ker_columns])):\n",
    "                            new_img[i, j] = 255\n",
    "                    else: #bottom超過的情況\n",
    "                        if np.any(np.logical_and(ker[: ker_rows-(bottom-img_rows)-1 , -left:], img[top:, 0:left+ker_columns])):\n",
    "                            new_img[i, j] = 255\n",
    "                elif (right > img_columns-1):\n",
    "                    if (bottom <= img_rows-1):\n",
    "                        if np.any(np.logical_and(ker[:, :ker_columns-(right-img_columns)-1], img[top:top+ker_rows, left:])):\n",
    "                            new_img[i, j] = 255\n",
    "                    else: #bottom超過\n",
    "                         if np.any(np.logical_and(ker[: ker_rows-(bottom-img_rows)-1, :ker_columns-(right-img_columns)-1], img[top:, left:])):\n",
    "                            new_img[i, j] = 255\n",
    "                else: #中下兩塊\n",
    "                    if (bottom <= img_rows-1):\n",
    "                        if np.any(np.logical_and(ker, img[top:top+ker_rows, left:left+ker_columns])):\n",
    "                            new_img[i, j] = 255\n",
    "                    else: #bottom超過\n",
    "                        if np.any(np.logical_and(ker[: ker_rows-(bottom-img_rows)-1,:], img[top:, left:left+ker_columns])):\n",
    "                            new_img[i, j] = 255\n",
    "\n",
    "            elif (top<0):\n",
    "                if (left <0):\n",
    "                    if np.any(np.logical_and(ker[-top: , -left:], img[0:top+ker_rows, 0:left+ker_columns])):\n",
    "                        new_img[i, j] = 255\n",
    "                elif (right > img_columns-1):\n",
    "                    if np.any(np.logical_and(ker[-top: , : ker_columns-(right-img_columns)-1], img[0:top+ker_rows, left:])):\n",
    "                        new_img[i, j] = 255\n",
    "                \n",
    "                else:\n",
    "                    if np.any(np.logical_and(ker[-top: , :], img[0:top+ker_rows, left:left+ker_columns])):\n",
    "                        new_img[i, j] = 255\n",
    "                    \n",
    "    return new_img\n",
    "\n",
    "\n",
    "\n",
    "original_img = cv2.imread('128binary_lena.bmp', 0)\n",
    "\n",
    "kernel = np.array([[0,1,1,1,0], [1,1,1,1,1], [1,1,1,1,1], [1,1,1,1,1], [0,1,1,1,0]])\n",
    "\n",
    "\n",
    "%time cv2.imwrite('dilation_lena.bmp', dilation_old(original_img, kernel))\n",
    "\n"
   ]
  },
  {
   "cell_type": "code",
   "execution_count": 99,
   "metadata": {},
   "outputs": [
    {
     "name": "stdout",
     "output_type": "stream",
     "text": [
      "CPU times: user 1.4 s, sys: 4.86 ms, total: 1.41 s\n",
      "Wall time: 1.41 s\n"
     ]
    },
    {
     "data": {
      "text/plain": [
       "True"
      ]
     },
     "execution_count": 99,
     "metadata": {},
     "output_type": "execute_result"
    }
   ],
   "source": [
    "def dilation(img, ker):\n",
    "    img_rows, img_columns = img.shape\n",
    "    ker_rows, ker_columns = ker.shape\n",
    "    row_dist, column_dist = int((ker_rows-1)/2), int((ker_columns-1)/2)\n",
    "    temp_img = np.zeros((img_rows+2*row_dist, img_columns+2*column_dist), np.int) \n",
    "    temp_img[row_dist:img_rows+row_dist, column_dist:img_columns+column_dist] = img\n",
    "    new_img = np.zeros((img_rows, img_columns), np.int)    \n",
    "    \n",
    "    for i in range(row_dist, img_rows+row_dist):\n",
    "        for j in range(column_dist, img_columns+column_dist):\n",
    "            if np.any(np.logical_and(ker, temp_img[i-row_dist: i+row_dist+1, j-column_dist: j+column_dist+1])):\n",
    "                new_img[i-row_dist, j-column_dist] = 255\n",
    "                    \n",
    "    return new_img\n",
    "    \n",
    "\n",
    "\n",
    "original_img = cv2.imread('128binary_lena.bmp', 0)\n",
    "\n",
    "kernel = np.array([[0,1,1,1,0], [1,1,1,1,1], [1,1,1,1,1], [1,1,1,1,1], [0,1,1,1,0]])\n",
    "\n",
    "\n",
    "%time cv2.imwrite('new_dilation_lena.bmp', dilation_new(original_img, kernel))\n",
    "\n"
   ]
  },
  {
   "cell_type": "code",
   "execution_count": 93,
   "metadata": {},
   "outputs": [
    {
     "data": {
      "text/plain": [
       "True"
      ]
     },
     "execution_count": 93,
     "metadata": {},
     "output_type": "execute_result"
    }
   ],
   "source": [
    "dilation1 = cv2.imread('dilation_lena.bmp', 0)\n",
    "dilation2 = cv2.imread('new_dilation_lena.bmp', 0)\n",
    "np.array_equal(dilation1,dilation2)  # test if same shape, same elements values\n",
    "#dilation1.shape\n",
    "#dilation2.shape"
   ]
  },
  {
   "cell_type": "code",
   "execution_count": 94,
   "metadata": {},
   "outputs": [],
   "source": [
    " for i in range(512):\n",
    "        for j in range(512):\n",
    "            if not dilation1[i,j] == dilation2[i,j]:\n",
    "                print (i, j)"
   ]
  },
  {
   "cell_type": "code",
   "execution_count": 120,
   "metadata": {},
   "outputs": [
    {
     "name": "stdout",
     "output_type": "stream",
     "text": [
      "CPU times: user 1.91 s, sys: 10.6 ms, total: 1.92 s\n",
      "Wall time: 1.94 s\n"
     ]
    },
    {
     "data": {
      "text/plain": [
       "True"
      ]
     },
     "execution_count": 120,
     "metadata": {},
     "output_type": "execute_result"
    }
   ],
   "source": [
    "def erosion(img, ker):\n",
    "    img_rows, img_columns = img.shape\n",
    "    ker_rows, ker_columns = ker.shape\n",
    "    row_dist, column_dist = int((ker_rows-1)/2), int((ker_columns-1)/2)\n",
    "    #為了邊框改ones\n",
    "    temp_img = np.ones((img_rows+2*row_dist, img_columns+2*column_dist), np.int) \n",
    "    temp_img[row_dist:img_rows+row_dist, column_dist:img_columns+column_dist] = img\n",
    "    new_img = np.zeros((img_rows, img_columns), np.int)    \n",
    "\n",
    "    \n",
    "    for i in range(row_dist, img_rows+row_dist):\n",
    "        for j in range(column_dist, img_columns+column_dist):\n",
    "            if not np.any(ker - np.logical_and(ker, temp_img[i-row_dist: i+row_dist+1, j-column_dist: j+column_dist+1])):\n",
    "                new_img[i-row_dist, j-column_dist] = 255\n",
    "                    \n",
    "    return new_img\n",
    "    \n",
    "\n",
    "original_img = cv2.imread('128binary_lena.bmp', 0)\n",
    "\n",
    "kernel = np.array([[0,1,1,1,0], [1,1,1,1,1], [1,1,1,1,1], [1,1,1,1,1], [0,1,1,1,0]])\n",
    "\n",
    "\n",
    "%time cv2.imwrite('erosion_lena.bmp', erosion(original_img, kernel))\n"
   ]
  },
  {
   "cell_type": "code",
   "execution_count": null,
   "metadata": {},
   "outputs": [],
   "source": [
    "#Opening(段開) : 對影像進行Erosion後再 Dilation，此時可以發現原本較為接近的兩個點經過此處理後會被分開。\n",
    "def opening(img, ker):\n",
    "    return dilation(erosion(img, ker), ker)\n",
    "\n",
    "#Closing  (閉合) : 對影像進行Dilation後再 Erosion，此時可以發現原本較為接近的兩個點經過此處理後會被黏合。\n",
    "def closing(img, ker):\n",
    "    return erosion(dilation(img, ker), ker)\n",
    "\n",
    "    "
   ]
  },
  {
   "cell_type": "code",
   "execution_count": 125,
   "metadata": {},
   "outputs": [
    {
     "name": "stdout",
     "output_type": "stream",
     "text": [
      "(512, 512)\n"
     ]
    },
    {
     "ename": "AttributeError",
     "evalue": "'NoneType' object has no attribute 'shape'",
     "output_type": "error",
     "traceback": [
      "\u001b[0;31m---------------------------------------------------------------------------\u001b[0m",
      "\u001b[0;31mAttributeError\u001b[0m                            Traceback (most recent call last)",
      "\u001b[0;32m<ipython-input-125-e25ce53fcaf5>\u001b[0m in \u001b[0;36m<module>\u001b[0;34m\u001b[0m\n\u001b[1;32m     28\u001b[0m \u001b[0;34m\u001b[0m\u001b[0m\n\u001b[1;32m     29\u001b[0m \u001b[0;34m\u001b[0m\u001b[0m\n\u001b[0;32m---> 30\u001b[0;31m \u001b[0mcv2\u001b[0m\u001b[0;34m.\u001b[0m\u001b[0mimwrite\u001b[0m\u001b[0;34m(\u001b[0m\u001b[0;34m'hit_and_miss_ur_corner.bmp'\u001b[0m\u001b[0;34m,\u001b[0m \u001b[0mhit_and_miss_ur_corner\u001b[0m\u001b[0;34m(\u001b[0m\u001b[0moriginal_img\u001b[0m\u001b[0;34m,\u001b[0m \u001b[0mkernel_j\u001b[0m\u001b[0;34m,\u001b[0m \u001b[0mkernel_k\u001b[0m\u001b[0;34m)\u001b[0m\u001b[0;34m)\u001b[0m\u001b[0;34m\u001b[0m\u001b[0m\n\u001b[0m\u001b[1;32m     31\u001b[0m \u001b[0;34m\u001b[0m\u001b[0m\n",
      "\u001b[0;32m<ipython-input-125-e25ce53fcaf5>\u001b[0m in \u001b[0;36mhit_and_miss_ur_corner\u001b[0;34m(img, ker_j, ker_k)\u001b[0m\n\u001b[1;32m     14\u001b[0m     \u001b[0mnew_img\u001b[0m \u001b[0;34m=\u001b[0m \u001b[0mnp\u001b[0m\u001b[0;34m.\u001b[0m\u001b[0mzeros\u001b[0m\u001b[0;34m(\u001b[0m\u001b[0;34m(\u001b[0m\u001b[0mimg_rows\u001b[0m\u001b[0;34m,\u001b[0m \u001b[0mimg_columns\u001b[0m\u001b[0;34m)\u001b[0m\u001b[0;34m,\u001b[0m \u001b[0mnp\u001b[0m\u001b[0;34m.\u001b[0m\u001b[0mint\u001b[0m\u001b[0;34m)\u001b[0m\u001b[0;34m\u001b[0m\u001b[0m\n\u001b[1;32m     15\u001b[0m     \u001b[0mtemp_img1\u001b[0m \u001b[0;34m=\u001b[0m \u001b[0merosion\u001b[0m\u001b[0;34m(\u001b[0m\u001b[0mimg\u001b[0m\u001b[0;34m,\u001b[0m \u001b[0mker_j\u001b[0m\u001b[0;34m)\u001b[0m\u001b[0;34m\u001b[0m\u001b[0m\n\u001b[0;32m---> 16\u001b[0;31m     \u001b[0mtemp_img2\u001b[0m \u001b[0;34m=\u001b[0m \u001b[0merosion\u001b[0m\u001b[0;34m(\u001b[0m\u001b[0mbinary_image_complement\u001b[0m\u001b[0;34m(\u001b[0m\u001b[0mimg\u001b[0m\u001b[0;34m)\u001b[0m\u001b[0;34m,\u001b[0m \u001b[0mker_k\u001b[0m\u001b[0;34m)\u001b[0m\u001b[0;34m\u001b[0m\u001b[0m\n\u001b[0m\u001b[1;32m     17\u001b[0m     \u001b[0;32mfor\u001b[0m \u001b[0mi\u001b[0m \u001b[0;32min\u001b[0m \u001b[0mrange\u001b[0m\u001b[0;34m(\u001b[0m\u001b[0mimg_rows\u001b[0m\u001b[0;34m)\u001b[0m\u001b[0;34m:\u001b[0m\u001b[0;34m\u001b[0m\u001b[0m\n\u001b[1;32m     18\u001b[0m         \u001b[0;32mfor\u001b[0m \u001b[0mj\u001b[0m \u001b[0;32min\u001b[0m \u001b[0mrange\u001b[0m\u001b[0;34m(\u001b[0m\u001b[0mimg_columns\u001b[0m\u001b[0;34m)\u001b[0m\u001b[0;34m:\u001b[0m\u001b[0;34m\u001b[0m\u001b[0m\n",
      "\u001b[0;32m<ipython-input-120-07a8ec5e34b3>\u001b[0m in \u001b[0;36merosion\u001b[0;34m(img, ker)\u001b[0m\n\u001b[1;32m      1\u001b[0m \u001b[0;32mdef\u001b[0m \u001b[0merosion\u001b[0m\u001b[0;34m(\u001b[0m\u001b[0mimg\u001b[0m\u001b[0;34m,\u001b[0m \u001b[0mker\u001b[0m\u001b[0;34m)\u001b[0m\u001b[0;34m:\u001b[0m\u001b[0;34m\u001b[0m\u001b[0m\n\u001b[0;32m----> 2\u001b[0;31m     \u001b[0mimg_rows\u001b[0m\u001b[0;34m,\u001b[0m \u001b[0mimg_columns\u001b[0m \u001b[0;34m=\u001b[0m \u001b[0mimg\u001b[0m\u001b[0;34m.\u001b[0m\u001b[0mshape\u001b[0m\u001b[0;34m\u001b[0m\u001b[0m\n\u001b[0m\u001b[1;32m      3\u001b[0m     \u001b[0mker_rows\u001b[0m\u001b[0;34m,\u001b[0m \u001b[0mker_columns\u001b[0m \u001b[0;34m=\u001b[0m \u001b[0mker\u001b[0m\u001b[0;34m.\u001b[0m\u001b[0mshape\u001b[0m\u001b[0;34m\u001b[0m\u001b[0m\n\u001b[1;32m      4\u001b[0m     \u001b[0mrow_dist\u001b[0m\u001b[0;34m,\u001b[0m \u001b[0mcolumn_dist\u001b[0m \u001b[0;34m=\u001b[0m \u001b[0mint\u001b[0m\u001b[0;34m(\u001b[0m\u001b[0;34m(\u001b[0m\u001b[0mker_rows\u001b[0m\u001b[0;34m-\u001b[0m\u001b[0;36m1\u001b[0m\u001b[0;34m)\u001b[0m\u001b[0;34m/\u001b[0m\u001b[0;36m2\u001b[0m\u001b[0;34m)\u001b[0m\u001b[0;34m,\u001b[0m \u001b[0mint\u001b[0m\u001b[0;34m(\u001b[0m\u001b[0;34m(\u001b[0m\u001b[0mker_columns\u001b[0m\u001b[0;34m-\u001b[0m\u001b[0;36m1\u001b[0m\u001b[0;34m)\u001b[0m\u001b[0;34m/\u001b[0m\u001b[0;36m2\u001b[0m\u001b[0;34m)\u001b[0m\u001b[0;34m\u001b[0m\u001b[0m\n\u001b[1;32m      5\u001b[0m     \u001b[0;31m#為了邊框改ones\u001b[0m\u001b[0;34m\u001b[0m\u001b[0;34m\u001b[0m\u001b[0m\n",
      "\u001b[0;31mAttributeError\u001b[0m: 'NoneType' object has no attribute 'shape'"
     ]
    }
   ],
   "source": [
    "def binary_image_complement(img):\n",
    "    img_rows, img_columns = img.shape\n",
    "    new_img = np.zeros((img_rows, img_columns), np.int)    \n",
    "\n",
    "    for i in range(img_rows):\n",
    "        for j in range(img_columns):\n",
    "            new_img[i,j] = 255-img[i,j]\n",
    "    \n",
    "    return new_img\n",
    "\n",
    "\n",
    "\n",
    "def hit_and_miss_ur_corner(img, ker_j, ker_k):\n",
    "    img_rows, img_columns = img.shape\n",
    "    new_img = np.zeros((img_rows, img_columns), np.int)\n",
    "    temp_img1 = erosion(img, ker_j)\n",
    "    temp_img2 = erosion(binary_image_complement(img), ker_k)\n",
    "    for i in range(img_rows):\n",
    "        for j in range(img_columns):\n",
    "            if temp_img1[i,j]==255 and temp_img2[i,j]==255:\n",
    "                new_img[i,j] = 255\n",
    "    return new_img\n",
    "\n",
    "\n",
    "\n",
    "    \n",
    "original_img = cv2.imread('128binary_lena.bmp', 0)\n",
    "\n",
    "print (original_img.shape)\n",
    "kernel_j = np.array([[0,0,0], [1,1,0], [0,1,0]])\n",
    "kernel_k = np.array([[0,1,1], [0,0,1], [0,0,0]])\n",
    "\n",
    "\n",
    "cv2.imwrite('hit_and_miss_ur_corner.bmp', hit_and_miss_ur_corner(original_img, kernel_j, kernel_k))\n",
    "    "
   ]
  },
  {
   "cell_type": "code",
   "execution_count": 60,
   "metadata": {},
   "outputs": [
    {
     "name": "stdout",
     "output_type": "stream",
     "text": [
      "1.41 s ± 21.2 ms per loop (mean ± std. dev. of 7 runs, 1 loop each)\n"
     ]
    }
   ],
   "source": [
    "a=1\n",
    "%timeit dilation(original_img, kernel)"
   ]
  },
  {
   "cell_type": "code",
   "execution_count": 26,
   "metadata": {},
   "outputs": [
    {
     "data": {
      "text/plain": [
       "False"
      ]
     },
     "execution_count": 26,
     "metadata": {},
     "output_type": "execute_result"
    }
   ],
   "source": [
    "np.any(np.array([0, 0]))"
   ]
  },
  {
   "cell_type": "code",
   "execution_count": 29,
   "metadata": {},
   "outputs": [
    {
     "data": {
      "text/plain": [
       "array([ True])"
      ]
     },
     "execution_count": 29,
     "metadata": {},
     "output_type": "execute_result"
    }
   ],
   "source": [
    "np.logical_and([1], [1])"
   ]
  },
  {
   "cell_type": "code",
   "execution_count": 38,
   "metadata": {},
   "outputs": [
    {
     "data": {
      "text/plain": [
       "(512, 512)"
      ]
     },
     "execution_count": 38,
     "metadata": {},
     "output_type": "execute_result"
    }
   ],
   "source": [
    "original_img = cv2.imread('128binary_lena.bmp', 0)\n",
    "\n",
    "original_img.shape"
   ]
  },
  {
   "cell_type": "code",
   "execution_count": 113,
   "metadata": {},
   "outputs": [
    {
     "name": "stdout",
     "output_type": "stream",
     "text": [
      "[0. 1. 1. 0. 0.]\n"
     ]
    },
    {
     "data": {
      "text/plain": [
       "array([ 1., -1.,  0., -2., -1.])"
      ]
     },
     "execution_count": 113,
     "metadata": {},
     "output_type": "execute_result"
    }
   ],
   "source": [
    "cc = np.zeros(5)\n",
    "cc[1:3] = [1,1]\n",
    "print (cc)\n",
    "cc - [-1,2,1,2,1]"
   ]
  },
  {
   "cell_type": "code",
   "execution_count": 67,
   "metadata": {},
   "outputs": [
    {
     "name": "stdout",
     "output_type": "stream",
     "text": [
      "2\n",
      "3\n",
      "4\n",
      "5\n",
      "6\n"
     ]
    }
   ],
   "source": [
    "for i in range(2, 7):\n",
    "    print (i)"
   ]
  },
  {
   "cell_type": "code",
   "execution_count": 107,
   "metadata": {},
   "outputs": [
    {
     "data": {
      "text/plain": [
       "array([[255, 255, 255, ..., 255, 255, 255],\n",
       "       [255, 255, 255, ..., 255, 255, 255],\n",
       "       [255, 255, 255, ..., 255, 255, 255],\n",
       "       ...,\n",
       "       [  0,   0,   0, ...,   0,   0,   0],\n",
       "       [  0,   0,   0, ...,   0,   0,   0],\n",
       "       [  0,   0,   0, ...,   0,   0,   0]], dtype=uint8)"
      ]
     },
     "execution_count": 107,
     "metadata": {},
     "output_type": "execute_result"
    }
   ],
   "source": [
    "#np.set_printoptions(threshold=np.nan)\n",
    "np.set_printoptions(threshold=10)\n",
    "original_img"
   ]
  },
  {
   "cell_type": "code",
   "execution_count": 117,
   "metadata": {},
   "outputs": [
    {
     "name": "stdout",
     "output_type": "stream",
     "text": [
      "1\n"
     ]
    }
   ],
   "source": [
    "if not False:\n",
    "    print (1)"
   ]
  },
  {
   "cell_type": "code",
   "execution_count": null,
   "metadata": {},
   "outputs": [],
   "source": []
  }
 ],
 "metadata": {
  "kernelspec": {
   "display_name": "Python 3",
   "language": "python",
   "name": "python3"
  },
  "language_info": {
   "codemirror_mode": {
    "name": "ipython",
    "version": 3
   },
   "file_extension": ".py",
   "mimetype": "text/x-python",
   "name": "python",
   "nbconvert_exporter": "python",
   "pygments_lexer": "ipython3",
   "version": "3.6.6"
  }
 },
 "nbformat": 4,
 "nbformat_minor": 2
}
