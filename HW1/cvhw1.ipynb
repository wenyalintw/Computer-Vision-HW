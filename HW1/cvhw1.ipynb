{
 "cells": [
  {
   "cell_type": "code",
   "execution_count": 10,
   "metadata": {},
   "outputs": [],
   "source": [
    "#import套件\n",
    "from PIL import Image\n",
    "import numpy as np\n",
    "\n",
    "#讀取lena.bmp與新建三個bmp檔\n",
    "im = Image.open(\"lena.bmp\") #讀取原始圖檔\n",
    "im_upsidedown = Image.new(\"L\", (512,512)) #新建上下顛倒圖檔\n",
    "im_rightsideleft = Image.new(\"L\", (512,512)) #新建左右顛倒圖檔\n",
    "im_diagonal = Image.new(\"L\", (512,512)) #新建對角線對稱圖檔\n",
    "\n",
    "#先儲存原始資訊\n",
    "original = np.zeros([512,512]) #儲存原始圖檔pixels之value\n",
    "for i in range (512):\n",
    "    for j in range (512):\n",
    "        original[i, j] = im.getpixel((i,j))\n",
    "\n",
    "#改變pixel位置，根據需求填入三個bmp檔中\n",
    "for i in range (512):\n",
    "    for j in range (512):\n",
    "        #上下顛倒\n",
    "        im_upsidedown.putpixel((i,j), int(original[i, 511-j]))\n",
    "        #左右顛倒\n",
    "        im_rightsideleft.putpixel((i,j), int(original[511-i, j]))\n",
    "        #對角線\n",
    "        im_diagonal.putpixel((i,j), int(original[j, i]))\n",
    "\n",
    "#顯示\n",
    "\"\"\"\n",
    "im.show()\n",
    "im_upsidedown.show()\n",
    "im_rightsideleft.show()\n",
    "im_diagonal.show()\n",
    "\"\"\"\n",
    "#儲存\n",
    "im_upsidedown.save(\"im_upsidedown.bmp\", \"bmp\")\n",
    "im_rightsideleft.save(\"im_rightsideleft.bmp\", \"bmp\")\n",
    "im_diagonal.save(\"im_diagonal.bmp\", \"bmp\")\n",
    "\n",
    "\n",
    "\n",
    "im_binary = Image.new(\"L\", (512,512), 255) \n",
    "\n",
    "for i in range (512):\n",
    "    for j in range (512):\n",
    "        if original[i,j] < 128:\n",
    "             im_binary.putpixel((i,j), 0)\n",
    "im_binary.show()\n",
    "\n",
    "im_binary.save(\"im_binary.bmp\", \"bmp\")\n"
   ]
  },
  {
   "cell_type": "code",
   "execution_count": null,
   "metadata": {},
   "outputs": [],
   "source": []
  }
 ],
 "metadata": {
  "kernelspec": {
   "display_name": "Python 2",
   "language": "python",
   "name": "python2"
  },
  "language_info": {
   "codemirror_mode": {
    "name": "ipython",
    "version": 2
   },
   "file_extension": ".py",
   "mimetype": "text/x-python",
   "name": "python",
   "nbconvert_exporter": "python",
   "pygments_lexer": "ipython2",
   "version": "2.7.14"
  }
 },
 "nbformat": 4,
 "nbformat_minor": 2
}
