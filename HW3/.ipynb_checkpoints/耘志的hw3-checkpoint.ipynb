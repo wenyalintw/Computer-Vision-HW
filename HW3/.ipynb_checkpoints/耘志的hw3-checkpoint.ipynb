{
 "cells": [
  {
   "cell_type": "code",
   "execution_count": null,
   "metadata": {},
   "outputs": [],
   "source": [
    "import numpy as np\n",
    "import cv2\n",
    "\n",
    "img = cv2.imread('lena.bmp', 0)\n",
    "rows, cols = img.shape\n",
    "N = rows * cols\n",
    "\n",
    "his_eq_table = np.zeros(256)\n",
    "for i in range(rows):\n",
    "    for j in range(cols):\n",
    "        his_eq_table[ img[i][j] ] += 1\n",
    "                \n",
    "pixel_statistic = np.zeros(256)\n",
    "for i in range(rows):\n",
    "    for j in range(cols):\n",
    "        p = 0\n",
    "        for k in range(0, img[i][j] + 1, 1):\n",
    "            p += his_eq_table[k]\n",
    "        img[i][j] = (255 * p) / N\n",
    "        pixel_statistic[ img[i][j] ] += 1\n",
    "\n",
    "cv2.imwrite('transformed_lena.jpg', img)\n",
    "\n",
    "his = np.zeros((256, 256))\n",
    "div_scalar = np.amax(pixel_statistic) / (256 * 0.9) # max value is about 0.9 position from bottom\n",
    "for i in range(256):\n",
    "    for j in range(256):\n",
    "        if i > 255 - int(pixel_statistic[j] / div_scalar):\n",
    "            his[i][j] = 255\n",
    "\n",
    "cv2.imwrite('histogram.jpg', his)\n"
   ]
  }
 ],
 "metadata": {
  "kernelspec": {
   "display_name": "Python 2",
   "language": "python",
   "name": "python2"
  },
  "language_info": {
   "codemirror_mode": {
    "name": "ipython",
    "version": 2
   },
   "file_extension": ".py",
   "mimetype": "text/x-python",
   "name": "python",
   "nbconvert_exporter": "python",
   "pygments_lexer": "ipython2",
   "version": "2.7.14"
  }
 },
 "nbformat": 4,
 "nbformat_minor": 2
}
