{
 "cells": [
  {
   "cell_type": "code",
   "execution_count": 30,
   "metadata": {},
   "outputs": [
    {
     "name": "stdout",
     "output_type": "stream",
     "text": [
      "CPU times: user 860 ms, sys: 7.95 ms, total: 868 ms\n",
      "Wall time: 867 ms\n"
     ]
    },
    {
     "data": {
      "image/png": "[encoded data removed]",
      "text/plain": [
       "<matplotlib.figure.Figure at 0x111cc8590>"
      ]
     },
     "metadata": {},
     "output_type": "display_data"
    }
   ],
   "source": [
    "%%time\n",
    "import numpy as np\n",
    "import cv2\n",
    "%matplotlib inline\n",
    "import matplotlib.pyplot as plt\n",
    "\n",
    "original = cv2.imread(\"lena.bmp\", 0) #用灰階讀檔\n",
    "count = np.zeros(256, np.int) #用來count original裡面的灰階值的，用來畫histogram，nj的意思\n",
    "\n",
    "#填好count\n",
    "for i in range (512):\n",
    "    for j in range (512):\n",
    "        count[original[i,j]] += 1\n",
    "\n",
    "#histogram equalization\n",
    "#先new一個空numpy array來接收equalization後的圖，cv2的image可以直接接收numpy array\n",
    "#算一下equlized後的s陣列，還有總pixels數numberofpixels\n",
    "\n",
    "equalized_histogram = np.zeros([512,512], int)\n",
    "rows, columns = original.shape\n",
    "numberofpixels = rows * columns\n",
    "s = np.zeros(256)\n",
    "summationnow = 0\n",
    "denominator = 255 / float(numberofpixels)\n",
    "\n",
    "for i in range (256):\n",
    "    summationnow += count[i]\n",
    "    s[i] = summationnow * denominator\n",
    "\n",
    "\n",
    "for i in range (512):\n",
    "    for j in range (512):\n",
    "        equalized_histogram[i, j] = int(round(s[original[i,j]]))\n",
    "\n",
    "cv2.imwrite(\"equalized_lena.jpg\", equalized_histogram)\n",
    "\n",
    "#作equalized_histogram的圖     \n",
    "x = np.linspace(0,255,256, endpoint = True, dtype=np.int)\n",
    "ax = plt.figure(figsize=(8,4))\n",
    "ax.set_facecolor((1, 0.8, 0.4)) \n",
    "plt.axes(facecolor='k')\n",
    "plt.hist(equalized_histogram.flatten(), bins = x, density=False, color='w')\n",
    "plt.xlabel(\"gray level value\")\n",
    "plt.ylabel(\"count\")\n",
    "plt.title(\"equalized_histogram.jpg\")\n",
    "plt.xlim(0, 255)\n",
    "#plt.ylim(0, max(count))\n",
    "\n",
    "#儲存equalized_histogram的圖  \n",
    "ax.savefig(\"equalized_histogram.jpg\",facecolor=ax.get_facecolor(), edgecolor='none')\n"
   ]
  },
  {
   "cell_type": "code",
   "execution_count": 5,
   "metadata": {},
   "outputs": [
    {
     "name": "stdout",
     "output_type": "stream",
     "text": [
      "[NbConvertApp] Converting notebook cvhw3.ipynb to python\n",
      "[NbConvertApp] Writing 1869 bytes to cvhw3.py\n"
     ]
    }
   ],
   "source": [
    "#!jupyter nbconvert --to=python cvhw3.ipynb"
   ]
  }
 ],
 "metadata": {
  "kernelspec": {
   "display_name": "Python 2",
   "language": "python",
   "name": "python2"
  },
  "language_info": {
   "codemirror_mode": {
    "name": "ipython",
    "version": 2
   },
   "file_extension": ".py",
   "mimetype": "text/x-python",
   "name": "python",
   "nbconvert_exporter": "python",
   "pygments_lexer": "ipython2",
   "version": "2.7.14"
  }
 },
 "nbformat": 4,
 "nbformat_minor": 2
}
