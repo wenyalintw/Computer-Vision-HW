{
 "cells": [
  {
   "cell_type": "code",
   "execution_count": 19,
   "metadata": {},
   "outputs": [
    {
     "data": {
      "text/plain": [
       "True"
      ]
     },
     "execution_count": 19,
     "metadata": {},
     "output_type": "execute_result"
    }
   ],
   "source": [
    "import cv2\n",
    "import numpy as np\n",
    "\n",
    "def GrayScale_Dilation(img, ker):\n",
    "    #獲得輸入圖檔之行列數\n",
    "    img_rows, img_columns = img.shape\n",
    "    #獲得kernel之行列數\n",
    "    ker_rows, ker_columns = ker.shape\n",
    "    #計算kernel中心距離邊界有多遠，為的是擴大原始圖檔，方便後續迴圈處理\n",
    "    row_dist, column_dist = int((ker_rows-1)/2), int((ker_columns-1)/2)\n",
    "    #根據上述計算，製作一個比原始圖檔大的暫存圖檔，以img為512*512, kernel為5*5來說，暫存圖檔為516*516，暫存圖檔為往上、往下、往左、往右分別外擴兩列/行，外擴新增的pixel值另為0，中間則就是原本輸入圖檔的值\n",
    "    \n",
    "    #dilation要找最大的，所以外擴的填0\n",
    "    temp_img = np.zeros((img_rows+2*row_dist, img_columns+2*column_dist), np.int) \n",
    "    temp_img[row_dist:img_rows+row_dist, column_dist:img_columns+column_dist] = img\n",
    "    #製作一個新圖檔準備接受dilation後的圖\n",
    "    #為了for迴圈裡面index好寫，這邊一樣把new_img改成擴大後的，之後再來裁，和hw4做法有一點點不一樣\n",
    "    new_img = np.zeros((img_rows+2*row_dist, img_columns+2*column_dist), np.int)   \n",
    "    \n",
    "    #為了矩陣相乘，先flip kernel，erosion不用這樣\n",
    "    kernel_flip = np.flip(ker)\n",
    "    \n",
    "    #進行dilation計算\n",
    "    for i in range(row_dist, img_rows+row_dist):\n",
    "        for j in range(column_dist, img_columns+column_dist):\n",
    "            new_img[i, j] = np.nanmax(temp_img[i-row_dist: i+row_dist+1, j-column_dist: j+column_dist+1]+kernel_flip)\n",
    "    new_img = new_img[row_dist:img_rows+row_dist, column_dist:img_columns+column_dist]      \n",
    "    \n",
    "    return new_img\n",
    "    \n",
    "def GrayScale_Erosion(img, ker):\n",
    "    #獲得輸入圖檔之行列數\n",
    "    img_rows, img_columns = img.shape\n",
    "    #獲得kernel之行列數\n",
    "    ker_rows, ker_columns = ker.shape\n",
    "    #計算kernel中心距離邊界有多遠，為的是擴大原始圖檔，方便後續迴圈處理\n",
    "    row_dist, column_dist = int((ker_rows-1)/2), int((ker_columns-1)/2)\n",
    "    #根據上述計算，製作一個比原始圖檔大的暫存圖檔，以img為512*512, kernel為5*5來說，暫存圖檔為516*516，暫存圖檔為往上、往下、往左、往右分別外擴兩列/行，外擴新增的pixel值另為0，中間則就是原本輸入圖檔的值\n",
    "    \n",
    "    #erosion要找最小的，所以外擴的填255\n",
    "    temp_img = 255 * np.ones((img_rows+2*row_dist, img_columns+2*column_dist), np.int) \n",
    "    temp_img[row_dist:img_rows+row_dist, column_dist:img_columns+column_dist] = img\n",
    "    #製作一個新圖檔準備接受dilation後的圖\n",
    "    #為了for迴圈裡面index好寫，這邊一樣把new_img改成擴大後的，之後再來裁，和hw4做法有一點點不一樣\n",
    "\n",
    "    new_img = 255*np.ones((img_rows+2*row_dist, img_columns+2*column_dist), np.int)   \n",
    "    \n",
    "    #進行erosion計算\n",
    "    for i in range(row_dist, img_rows+row_dist):\n",
    "        for j in range(column_dist, img_columns+column_dist):\n",
    "            new_img[i, j] = np.nanmin(temp_img[i-row_dist: i+row_dist+1, j-column_dist: j+column_dist+1]-ker)\n",
    "\n",
    "    new_img = new_img[row_dist:img_rows+row_dist, column_dist:img_columns+column_dist]      \n",
    "    return new_img\n",
    "    \n",
    "def GrayScale_Opening(img, ker):\n",
    "    return GrayScale_Dilation(GrayScale_Erosion(img, ker), ker)\n",
    "\n",
    "def GrayScale_Closing(img, ker):\n",
    "    return GrayScale_Erosion(GrayScale_Dilation(img, ker), ker)\n",
    "\n",
    "\n",
    "original_img = cv2.imread('lena.bmp', 0)\n",
    "\n",
    "###製作kernel###\n",
    "#dilation, erosion, opening, closing要用的kernel\n",
    "kernel = np.array([[np.nan,0,0,0,np.nan], [0,0,0,0,0], [0,0,0,0,0], [0,0,0,0,0], [np.nan,0,0,0,np.nan]])\n",
    "\n",
    "\n",
    "###輸出圖片###\n",
    "#輸出dilation圖片\n",
    "cv2.imwrite('gray_scale_dilation_lena.bmp', GrayScale_Dilation(original_img, kernel))\n",
    "\n",
    "#輸出erosion圖片\n",
    "cv2.imwrite('gray_scale_erosion_lena.bmp', GrayScale_Erosion(original_img, kernel))\n",
    "\n",
    "#輸出opening圖片\n",
    "cv2.imwrite('gray_scale_opening_lena.bmp', GrayScale_Opening(original_img, kernel))\n",
    "\n",
    "#輸出closing圖片\n",
    "cv2.imwrite('gray_scale_closing_lena.bmp', GrayScale_Closing(original_img, kernel))"
   ]
  }
 ],
 "metadata": {
  "kernelspec": {
   "display_name": "Python 3",
   "language": "python",
   "name": "python3"
  },
  "language_info": {
   "codemirror_mode": {
    "name": "ipython",
    "version": 3
   },
   "file_extension": ".py",
   "mimetype": "text/x-python",
   "name": "python",
   "nbconvert_exporter": "python",
   "pygments_lexer": "ipython3",
   "version": "3.6.7"
  }
 },
 "nbformat": 4,
 "nbformat_minor": 2
}
